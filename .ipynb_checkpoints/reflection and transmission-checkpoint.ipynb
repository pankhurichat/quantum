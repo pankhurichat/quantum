{
 "cells": [
  {
   "cell_type": "markdown",
   "id": "ec45185a",
   "metadata": {},
   "source": [
    "# Reflection and transmission coefficient "
   ]
  },
  {
   "cell_type": "markdown",
   "id": "534fdddb",
   "metadata": {},
   "source": [
    "# Solving the 1-D Schrodinger Equation\n",
    "$$ i \\hbar \\frac{\\partial \\psi}{\\partial t} = -\\frac{\\hbar^2}{2m} \\frac{\\partial^2\\psi}{\\partial x^2} + V(x)\\psi $$\n",
    "\n",
    "## Discretization (after dimensional analysis)\n",
    "\n",
    "$$ i \\frac{d\\phi}{dt} = H \\phi $$\n",
    "\n",
    "where\n",
    "\n",
    "$$H_{ij} = -\\frac{1}{\\Delta^2}\\left(\\delta_{i+1,j}-2\\delta_{i,j}+\\delta_{i-1,j}\\right) + U_i \\delta_{i,j} $$  \n",
    "\n",
    "\n",
    "Formal solution:  \n",
    "\n",
    "$$ \\phi(t) = e^{-i H t} \\phi(0) $$\n",
    "\n",
    "Strategy:  \n",
    "1. Solve for eigenvalues and eigenvectors of $H$  \n",
    "\n",
    "$$ H \\phi_n = \\epsilon_n \\phi_n $$  \n",
    "\n",
    "2. Expand $\\phi(0)$ in the basis of eigenvectors  \n",
    "\n",
    "$$ \\phi(0) = \\sum_n c_n \\phi_n $$  \n",
    "where $c_n = \\phi_n^{\\dagger} \\phi(0)$  \n",
    "\n",
    "3. The state $\\phi(t)$ is then given by  \n",
    "\n",
    "\\begin{eqnarray*}\n",
    "\\phi(t) &=& e^{-i H t} \\phi(0) \\\\\n",
    "&=& \\sum_n c_n e^{-i\\epsilon_n t}\\phi_n\n",
    "\\end{eqnarray*}"
   ]
  },
  {
   "cell_type": "code",
   "execution_count": 1,
   "id": "0f72dd8f",
   "metadata": {},
   "outputs": [],
   "source": [
    "import matplotlib.pyplot as plt\n",
    "import numpy as np\n",
    "from numpy import linalg as lin\n",
    "import warnings\n",
    "warnings.filterwarnings('ignore')"
   ]
  },
  {
   "cell_type": "code",
   "execution_count": 9,
   "id": "9a702120",
   "metadata": {},
   "outputs": [
    {
     "data": {
      "text/plain": [
       "300"
      ]
     },
     "execution_count": 9,
     "metadata": {},
     "output_type": "execute_result"
    }
   ],
   "source": [
    "delta=.1\n",
    "L=30\n",
    "N=int(L/delta)\n",
    "x = np.linspace(-L,L,2*N+1)\n",
    "N"
   ]
  },
  {
   "cell_type": "code",
   "execution_count": 11,
   "id": "7e3cb1a0",
   "metadata": {},
   "outputs": [
    {
     "data": {
      "text/plain": [
       "(28.962100991785828, 0.009537396978021976, 524.2520586615011)"
      ]
     },
     "execution_count": 11,
     "metadata": {},
     "output_type": "execute_result"
    }
   ],
   "source": [
    "#given\n",
    "v=5 #ev\n",
    "E=8 #ev\n",
    "w=2e-9 #width in nm\n",
    "m=9.1e-31\n",
    "#natural energy\n",
    "E0=((1.054e-34)**2/(2*m*w**2))/(1.6e-19) #joule to ev\n",
    "#dimensionless quantities\n",
    "V0=v/E0 #barrier height \n",
    "e=E/E0 #dimensionless energy\n",
    "# p0=np.sqrt(e) \n",
    "p0=(8/E0)**.5\n",
    "#p0=0\n",
    "p0,E0,V0"
   ]
  },
  {
   "cell_type": "code",
   "execution_count": 14,
   "id": "04aa435b",
   "metadata": {},
   "outputs": [],
   "source": [
    "def kronecker(i,j):\n",
    "    return 1 if i==j else 0\n",
    "\n",
    "# def pot(x):\n",
    "#     if -.5 <= x <= .5 : \n",
    "#         return V0 \n",
    "#     else:\n",
    "#         return 0\n",
    "def pot(x):\n",
    "    return x**2\n",
    "\n",
    "def h(i,j):\n",
    "    return (-kronecker(i+1,j) + 2*kronecker(i,j) - kronecker(i-1,j))/delta**2 + pot(delta*i) * kronecker(i,j)\n",
    "\n",
    "a=1\n",
    "b=-7\n",
    "def psi0(ys):\n",
    "    return (1/pow(np.pi*(a**2),0.25))*np.exp(-((ys-b)**2)/(2.0*a**2) - 1j*p0*ys)\n",
    "\n",
    "def c(i):\n",
    "    return np.vdot(np.sqrt(delta)*wave,eigvec[:,i])"
   ]
  },
  {
   "cell_type": "code",
   "execution_count": 15,
   "id": "8e0fca8b",
   "metadata": {},
   "outputs": [
    {
     "data": {
      "text/plain": [
       "[<matplotlib.lines.Line2D at 0x26b2ff2ecd0>]"
      ]
     },
     "execution_count": 15,
     "metadata": {},
     "output_type": "execute_result"
    },
    {
     "data": {
      "image/png": "[encoded data removed]",
      "text/plain": [
       "<Figure size 432x288 with 1 Axes>"
      ]
     },
     "metadata": {
      "needs_background": "light"
     },
     "output_type": "display_data"
    }
   ],
   "source": [
    "p=psi0(x)\n",
    "plt.plot(x,p)"
   ]
  },
  {
   "cell_type": "code",
   "execution_count": 19,
   "id": "d7177fb4",
   "metadata": {},
   "outputs": [
    {
     "data": {
      "image/png": "[encoded data removed]",
      "text/plain": [
       "<Figure size 432x288 with 1 Axes>"
      ]
     },
     "metadata": {
      "needs_background": "light"
     },
     "output_type": "display_data"
    }
   ],
   "source": [
    "wave=psi0(x)\n",
    "for i in range(5):\n",
    "    plt.plot(x,eigvec[:,i])"
   ]
  },
  {
   "cell_type": "code",
   "execution_count": 20,
   "id": "ddec32c6",
   "metadata": {},
   "outputs": [
    {
     "name": "stdout",
     "output_type": "stream",
     "text": [
      "0.9998376919613967\n"
     ]
    }
   ],
   "source": [
    "ci=[c(i) for i in range(0,2*N+1)]\n",
    "C=0\n",
    "for i in range(0,2*N+1):\n",
    "    C=C+abs(ci[i])**2\n",
    "print(C)    "
   ]
  },
  {
   "cell_type": "code",
   "execution_count": 18,
   "id": "088f612f",
   "metadata": {},
   "outputs": [
    {
     "data": {
      "text/plain": [
       "array([[1100.  , -100.  ,    0.  , ...,    0.  ,    0.  ,    0.  ],\n",
       "       [-100.  , 1094.01, -100.  , ...,    0.  ,    0.  ,    0.  ],\n",
       "       [   0.  , -100.  , 1088.04, ...,    0.  ,    0.  ,    0.  ],\n",
       "       ...,\n",
       "       [   0.  ,    0.  ,    0.  , ..., 1088.04, -100.  ,    0.  ],\n",
       "       [   0.  ,    0.  ,    0.  , ..., -100.  , 1094.01, -100.  ],\n",
       "       [   0.  ,    0.  ,    0.  , ...,    0.  , -100.  , 1100.  ]])"
      ]
     },
     "execution_count": 18,
     "metadata": {},
     "output_type": "execute_result"
    }
   ],
   "source": [
    "H=np.array([[h(i,j) for i in range(-N,N+1)] for j in range(-N,N+1)])\n",
    "\n",
    "eigval,eigvec=lin.eig(H)\n",
    "index=eigval.argsort()\n",
    "eigval=eigval[index]\n",
    "eigvec=eigvec[:,index]\n",
    "\n",
    "H"
   ]
  },
  {
   "cell_type": "markdown",
   "id": "6ac8c17e",
   "metadata": {},
   "source": [
    "$c_n = \\phi_n^{\\dagger} \\phi(0)$  "
   ]
  },
  {
   "cell_type": "markdown",
   "id": "e1733a27",
   "metadata": {},
   "source": [
    "\\begin{eqnarray*}\n",
    "\\phi(t) &=& e^{-i H t} \\phi(0) \\\\\n",
    "&=& \\sum_n c_n e^{-i\\epsilon_n t}\\phi_n\n",
    "\\end{eqnarray*}"
   ]
  },
  {
   "cell_type": "code",
   "execution_count": 184,
   "id": "60dadceb",
   "metadata": {},
   "outputs": [],
   "source": [
    "def psiT(t):\n",
    "    sum=np.zeros((2*N+1),dtype=\"complex\")\n",
    "    for i in range(0,2*N+1):\n",
    "        sum+=c(i)*np.exp(-1.0j*eigval[i]*t)*eigvec[:,i]\n",
    "    return sum"
   ]
  },
  {
   "cell_type": "code",
   "execution_count": 185,
   "id": "cc68de4c",
   "metadata": {},
   "outputs": [],
   "source": [
    "def prob(t):\n",
    "    return np.array([abs(psiT(t)[i])**2 for i in range (0,2*N+1)])"
   ]
  },
  {
   "cell_type": "code",
   "execution_count": 186,
   "id": "1041ba82",
   "metadata": {},
   "outputs": [
    {
     "data": {
      "text/plain": [
       "[<matplotlib.lines.Line2D at 0x11a7857cf40>]"
      ]
     },
     "execution_count": 186,
     "metadata": {},
     "output_type": "execute_result"
    },
    {
     "data": {
      "image/png": "[encoded data removed]",
      "text/plain": [
       "<Figure size 432x288 with 1 Axes>"
      ]
     },
     "metadata": {
      "needs_background": "light"
     },
     "output_type": "display_data"
    }
   ],
   "source": [
    "V=[.001*pot(x) for x in x]\n",
    "plt.plot(x,V)\n",
    "plt.plot(x,5*prob(0))"
   ]
  },
  {
   "cell_type": "code",
   "execution_count": 187,
   "id": "b018bd2a",
   "metadata": {},
   "outputs": [
    {
     "data": {
      "text/plain": [
       "[<matplotlib.lines.Line2D at 0x11a786eb640>]"
      ]
     },
     "execution_count": 187,
     "metadata": {},
     "output_type": "execute_result"
    },
    {
     "data": {
      "image/png": "[encoded data removed]",
      "text/plain": [
       "<Figure size 432x288 with 1 Axes>"
      ]
     },
     "metadata": {
      "needs_background": "light"
     },
     "output_type": "display_data"
    }
   ],
   "source": [
    "plt.plot(x,V)\n",
    "plt.plot(x,5*prob(.5))"
   ]
  },
  {
   "cell_type": "code",
   "execution_count": 188,
   "id": "91542a7c",
   "metadata": {},
   "outputs": [
    {
     "data": {
      "text/plain": [
       "[<matplotlib.lines.Line2D at 0x11a7a6f32e0>]"
      ]
     },
     "execution_count": 188,
     "metadata": {},
     "output_type": "execute_result"
    },
    {
     "data": {
      "image/png": "[encoded data removed]",
      "text/plain": [
       "<Figure size 432x288 with 1 Axes>"
      ]
     },
     "metadata": {
      "needs_background": "light"
     },
     "output_type": "display_data"
    }
   ],
   "source": [
    "plt.plot(x,V)\n",
    "plt.plot(x,5*prob(1))"
   ]
  },
  {
   "cell_type": "code",
   "execution_count": 189,
   "id": "89771d96",
   "metadata": {},
   "outputs": [
    {
     "data": {
      "text/plain": [
       "[<matplotlib.lines.Line2D at 0x11a78925dc0>]"
      ]
     },
     "execution_count": 189,
     "metadata": {},
     "output_type": "execute_result"
    },
    {
     "data": {
      "image/png": "[encoded data removed]",
      "text/plain": [
       "<Figure size 432x288 with 1 Axes>"
      ]
     },
     "metadata": {
      "needs_background": "light"
     },
     "output_type": "display_data"
    }
   ],
   "source": [
    "plt.plot(x,V)\n",
    "plt.plot(x,5*prob(2))"
   ]
  },
  {
   "cell_type": "code",
   "execution_count": 190,
   "id": "ee264df5",
   "metadata": {},
   "outputs": [
    {
     "data": {
      "text/plain": [
       "[<matplotlib.lines.Line2D at 0x11a78995670>]"
      ]
     },
     "execution_count": 190,
     "metadata": {},
     "output_type": "execute_result"
    },
    {
     "data": {
      "image/png": "[encoded data removed]",
      "text/plain": [
       "<Figure size 432x288 with 1 Axes>"
      ]
     },
     "metadata": {
      "needs_background": "light"
     },
     "output_type": "display_data"
    }
   ],
   "source": [
    "plt.plot(x,V)\n",
    "plt.plot(x,5*prob(3))"
   ]
  },
  {
   "cell_type": "code",
   "execution_count": 191,
   "id": "3d82a9fd",
   "metadata": {},
   "outputs": [
    {
     "data": {
      "text/plain": [
       "[<matplotlib.lines.Line2D at 0x11a78a020a0>]"
      ]
     },
     "execution_count": 191,
     "metadata": {},
     "output_type": "execute_result"
    },
    {
     "data": {
      "image/png": "[encoded data removed]",
      "text/plain": [
       "<Figure size 432x288 with 1 Axes>"
      ]
     },
     "metadata": {
      "needs_background": "light"
     },
     "output_type": "display_data"
    }
   ],
   "source": [
    "plt.plot(x,V)\n",
    "plt.plot(x,5*prob(5))"
   ]
  },
  {
   "cell_type": "code",
   "execution_count": 192,
   "id": "c7b9d458",
   "metadata": {},
   "outputs": [
    {
     "data": {
      "text/plain": [
       "[<matplotlib.lines.Line2D at 0x11a78a61b20>]"
      ]
     },
     "execution_count": 192,
     "metadata": {},
     "output_type": "execute_result"
    },
    {
     "data": {
      "image/png": "[encoded data removed]",
      "text/plain": [
       "<Figure size 432x288 with 1 Axes>"
      ]
     },
     "metadata": {
      "needs_background": "light"
     },
     "output_type": "display_data"
    }
   ],
   "source": [
    "plt.plot(x,V)\n",
    "plt.plot(x,5*prob(10))"
   ]
  },
  {
   "cell_type": "code",
   "execution_count": 200,
   "id": "83b38d2d",
   "metadata": {},
   "outputs": [],
   "source": [
    "P=prob(0)"
   ]
  },
  {
   "cell_type": "code",
   "execution_count": 199,
   "id": "fcd408e1",
   "metadata": {},
   "outputs": [
    {
     "data": {
      "text/plain": [
       "(0.9999998314843279, 0.9999998314843415)"
      ]
     },
     "execution_count": 199,
     "metadata": {},
     "output_type": "execute_result"
    }
   ],
   "source": [
    "np.sum(prob(0)), np.sum(prob(1))"
   ]
  },
  {
   "cell_type": "code",
   "execution_count": 205,
   "id": "901de5b3",
   "metadata": {},
   "outputs": [],
   "source": [
    "R=0\n",
    "T=0\n",
    "for i in range(0,2*N+1):\n",
    "    if i<=0.5:\n",
    "        R+=P[i]\n",
    "    elif i>=0.5:\n",
    "        T+=P[i]\n",
    "    else:\n",
    "        continue "
   ]
  },
  {
   "cell_type": "code",
   "execution_count": 206,
   "id": "48e4ceb0",
   "metadata": {},
   "outputs": [
    {
     "data": {
      "text/plain": [
       "0.9999999999999997"
      ]
     },
     "execution_count": 206,
     "metadata": {},
     "output_type": "execute_result"
    }
   ],
   "source": [
    "R=R/np.sum(prob(0))\n",
    "T=T/np.sum(prob(0))\n",
    "R+T"
   ]
  },
  {
   "cell_type": "code",
   "execution_count": null,
   "id": "c6995dc7",
   "metadata": {},
   "outputs": [],
   "source": []
  }
 ],
 "metadata": {
  "kernelspec": {
   "display_name": "Python 3 (ipykernel)",
   "language": "python",
   "name": "python3"
  },
  "language_info": {
   "codemirror_mode": {
    "name": "ipython",
    "version": 3
   },
   "file_extension": ".py",
   "mimetype": "text/x-python",
   "name": "python",
   "nbconvert_exporter": "python",
   "pygments_lexer": "ipython3",
   "version": "3.9.12"
  }
 },
 "nbformat": 4,
 "nbformat_minor": 5
}
