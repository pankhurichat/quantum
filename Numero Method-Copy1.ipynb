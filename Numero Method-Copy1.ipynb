{
 "cells": [
  {
   "cell_type": "code",
   "execution_count": 1,
   "id": "f799f5b1",
   "metadata": {},
   "outputs": [],
   "source": [
    "import numpy as np\n",
    "import matplotlib.pyplot as plt\n",
    "import math as m\n",
    "from tqdm import tqdm"
   ]
  },
  {
   "cell_type": "code",
   "execution_count": 9,
   "id": "30550690",
   "metadata": {},
   "outputs": [],
   "source": [
    "h=0.01\n",
    "L=6.0\n",
    "X = np.arange(-L,L+h,h)\n",
    "def f(x,e):\n",
    "    return (x**2-e)\n",
    "def y(x,e):\n",
    "    return 1-(h**2/12)*f(x,e)"
   ]
  },
  {
   "cell_type": "code",
   "execution_count": 10,
   "id": "522ea57c",
   "metadata": {},
   "outputs": [],
   "source": [
    "def Numerov(x0,xf,p0,p1,e):\n",
    "    n=int((xf-x0)/h)\n",
    "    xs=np.zeros((n+1))\n",
    "    psi=np.zeros((n+1))\n",
    "    state=0\n",
    "    xs[0],xs[1]=x0,x0+h\n",
    "    psi[0],psi[1]=p0,p1\n",
    "    for i in range(1,n):\n",
    "        psi[i+1]=((psi[i]*(12-10*y(X[i],e))-y(X[i-1],e)*psi[i-1])/y(X[i+1],e))\n",
    "        xs[i+1]=xs[i]+h\n",
    "        \n",
    "        #psi.append(psih)\n",
    "        #xs.append(xsh)\n",
    "        if psi[i]*psi[i+1]<0:\n",
    "            state=state+1\n",
    "    return xs,psi,psi[-1],state      "
   ]
  },
  {
   "cell_type": "markdown",
   "id": "5d6402e0",
   "metadata": {},
   "source": [
    "# Start one guess"
   ]
  },
  {
   "cell_type": "code",
   "execution_count": 11,
   "id": "9678d232",
   "metadata": {
    "scrolled": true
   },
   "outputs": [],
   "source": [
    "def Bisection(a,b):\n",
    "    tolerance=0.000000001\n",
    "    midpoint=0\n",
    "    xs1,psi1,q1,n1=Numerov(-L,L,0,0.0000001,a)\n",
    "    xs2,psi2,q2,n2=Numerov(-L,L,0,0.0000001,b)\n",
    "    if q1*q2>0:\n",
    "        print('choose right values of a and b')\n",
    "    else:\n",
    "        while(abs(b-a)>tolerance):\n",
    "            xs1,psi1,q1,n1=Numerov(-L,L,0,0.0000001,a)\n",
    "            xs2,psi2,q2,n2=Numerov(-L,L,0,0.0000001,b)\n",
    "            midpoint=(a+b)/2\n",
    "            xsm,psim,qm,nm=Numerov(-L,L,0,0.0000001,midpoint)\n",
    "            if q1*qm<0:\n",
    "                b=midpoint\n",
    "            if q2*qm<0:\n",
    "                a=midpoint\n",
    "        print(\"The energy eigenvalue is\",midpoint,\"corresponding to\",nm,\"excited state\")\n",
    "    return midpoint"
   ]
  },
  {
   "cell_type": "code",
   "execution_count": 5,
   "id": "60b34764",
   "metadata": {},
   "outputs": [
    {
     "name": "stdout",
     "output_type": "stream",
     "text": [
      "The energy eigenvalue is 0.9999999999068677 corresponding to 0 excited state\n",
      "The energy eigenvalue is 2.9999999993480744 corresponding to 1 excited state\n",
      "The energy eigenvalue is 4.999999997485428 corresponding to 2 excited state\n"
     ]
    }
   ],
   "source": [
    "a=0.2\n",
    "da=0.35\n",
    "for i in range(0,3):\n",
    "    xs1,psi1,q1,n1=Numerov(-L,L,0,0.000000001,a)\n",
    "    xs2,psi2,q2,n2=Numerov(-L,L,0,0.000000001,a+da)\n",
    "    while(n1==n2):  \n",
    "        xs1,psi1,q1,n1=Numerov(-L,L,0,0.000000001,a)\n",
    "        xs2,psi2,q2,n2=Numerov(-L,L,0,0.000000001,a+da)\n",
    "        if (n1==n2):    ## when both wavefunction have same \n",
    "            a=a+da\n",
    "        else:   ## When two wavefunctions have different sign then use bisection method to find root between them\n",
    "            w=Bisection(a,a+da)\n",
    "    a=a+da"
   ]
  },
  {
   "cell_type": "code",
   "execution_count": 12,
   "id": "37a6aa7c",
   "metadata": {},
   "outputs": [
    {
     "name": "stdout",
     "output_type": "stream",
     "text": [
      "The energy eigenvalue is 2.9999999992549418 corresponding to 1 excited state\n"
     ]
    },
    {
     "ename": "TypeError",
     "evalue": "cannot unpack non-iterable float object",
     "output_type": "error",
     "traceback": [
      "\u001b[1;31m---------------------------------------------------------------------------\u001b[0m",
      "\u001b[1;31mTypeError\u001b[0m                                 Traceback (most recent call last)",
      "\u001b[1;32m~\\AppData\\Local\\Temp/ipykernel_2108/884802655.py\u001b[0m in \u001b[0;36m<module>\u001b[1;34m\u001b[0m\n\u001b[1;32m----> 1\u001b[1;33m \u001b[0mxs1\u001b[0m\u001b[1;33m,\u001b[0m\u001b[0mpsi1\u001b[0m\u001b[1;33m,\u001b[0m\u001b[0mq1\u001b[0m\u001b[1;33m,\u001b[0m\u001b[0mn1\u001b[0m\u001b[1;33m=\u001b[0m\u001b[0mBisection\u001b[0m\u001b[1;33m(\u001b[0m\u001b[1;36m2.8\u001b[0m\u001b[1;33m,\u001b[0m\u001b[1;36m3.2\u001b[0m\u001b[1;33m)\u001b[0m\u001b[1;33m\u001b[0m\u001b[1;33m\u001b[0m\u001b[0m\n\u001b[0m",
      "\u001b[1;31mTypeError\u001b[0m: cannot unpack non-iterable float object"
     ]
    }
   ],
   "source": [
    "xs1,psi1,q1,n1=Bisection(2.8,3.2)"
   ]
  },
  {
   "cell_type": "code",
   "execution_count": 7,
   "id": "ac491406",
   "metadata": {},
   "outputs": [
    {
     "data": {
      "text/plain": [
       "[<matplotlib.lines.Line2D at 0x1e12f6871c0>]"
      ]
     },
     "execution_count": 7,
     "metadata": {},
     "output_type": "execute_result"
    },
    {
     "data": {
      "image/png": "[encoded data removed]",
      "text/plain": [
       "<Figure size 432x288 with 1 Axes>"
      ]
     },
     "metadata": {
      "needs_background": "light"
     },
     "output_type": "display_data"
    }
   ],
   "source": [
    "plt.plot(xs1,psi1)"
   ]
  },
  {
   "cell_type": "code",
   "execution_count": null,
   "id": "ff7e040c",
   "metadata": {},
   "outputs": [],
   "source": []
  }
 ],
 "metadata": {
  "kernelspec": {
   "display_name": "Python 3 (ipykernel)",
   "language": "python",
   "name": "python3"
  },
  "language_info": {
   "codemirror_mode": {
    "name": "ipython",
    "version": 3
   },
   "file_extension": ".py",
   "mimetype": "text/x-python",
   "name": "python",
   "nbconvert_exporter": "python",
   "pygments_lexer": "ipython3",
   "version": "3.9.12"
  }
 },
 "nbformat": 4,
 "nbformat_minor": 5
}
