{
 "cells": [
  {
   "cell_type": "markdown",
   "id": "f6976540",
   "metadata": {},
   "source": [
    "# Projectile Motion\n",
    "RK4+Bisection"
   ]
  },
  {
   "cell_type": "code",
   "execution_count": 1,
   "id": "52b3669d",
   "metadata": {},
   "outputs": [],
   "source": [
    "import matplotlib.pyplot as plt\n",
    "import numpy as np"
   ]
  },
  {
   "cell_type": "code",
   "execution_count": 2,
   "id": "e1436eae",
   "metadata": {},
   "outputs": [],
   "source": [
    "def f(x,v,t):\n",
    "  r= v\n",
    "  return r\n",
    "\n",
    "def g(x,v,t):\n",
    "  r= -9.8\n",
    "  return r\n",
    "\n",
    "def rk4(x0,v0,t0,tn,n):\n",
    "\n",
    "    h= (tn-t0)/n       # step size h\n",
    "    time=[t0]          # list of t, x and y to append data\n",
    "    position=[x0]\n",
    "    velocity=[v0]\n",
    "    for i in range(1,n):\n",
    "      k1 = h*f(x0, v0, t0)\n",
    "      l1 = h*g(x0, v0, t0)\n",
    "      k2=h*f(x0+(k1)/2,v0+(l1)/2,t0+(h)/2)\n",
    "      l2=h*g(x0+(k1)/2,v0+(l1)/2,t0+(h)/2)\n",
    "      k3=h*f(x0+(k2)/2,v0+(l2)/2,(h)/2)\n",
    "      l3=h*g(x0+(k2)/2,v0+(l2)/2,(h)/2)\n",
    "      k4=h*f(x0+k3,v0+l3,t0+h)\n",
    "      l4=h*g(x0+k3,v0+l3,t0+h)\n",
    "        \n",
    "        \n",
    "      x1 = x0 + (1/6)*(k1+2*k2+2*k3+k4)\n",
    "      v1 = v0 + (1/6)*(l1+2*l2+2*l3+l4)\n",
    "      t1 = t0 + h\n",
    "      position.append(x1)\n",
    "      velocity.append(v1)\n",
    "      time.append(t1)\n",
    "\n",
    "      x0 = x1         # assign the modified values og x0 and y0 for the next iteration\n",
    "      v0 = v1\n",
    "      t0 = t1\n",
    "\n",
    "    return (position,velocity,time)"
   ]
  },
  {
   "cell_type": "code",
   "execution_count": 10,
   "id": "016b5e18",
   "metadata": {},
   "outputs": [
    {
     "data": {
      "text/plain": [
       "[<matplotlib.lines.Line2D at 0x23925111820>]"
      ]
     },
     "execution_count": 10,
     "metadata": {},
     "output_type": "execute_result"
    },
    {
     "data": {
      "image/png": "[encoded data removed]",
      "text/plain": [
       "<Figure size 432x288 with 1 Axes>"
      ]
     },
     "metadata": {
      "needs_background": "light"
     },
     "output_type": "display_data"
    }
   ],
   "source": [
    "x0=0\n",
    "v0=30\n",
    "t0=0\n",
    "tn=10\n",
    "n=1000\n",
    "v1=100\n",
    "x,v,t=rk4(x0,v0,t0,tn,n)\n",
    "x1,v1,t1=rk4(x0,v1,t0,tn,n)\n",
    "# print(f(x0,v,t0))\n",
    "plt.plot(t,x)\n",
    "plt.plot(t1,x1)"
   ]
  },
  {
   "cell_type": "code",
   "execution_count": 11,
   "id": "fd571d4c",
   "metadata": {},
   "outputs": [],
   "source": [
    "def bisection(a,b,f,e):\n",
    "    if f(a)*f(b)>0:\n",
    "        print(\"enter other interval\")\n",
    "    while (abs(b-a)>e):\n",
    "        c=(a+b)/2\n",
    "        if f(a)*f(c)<0:\n",
    "            b=c\n",
    "        elif f(b)*f(c)<0:\n",
    "            a=c\n",
    "    return c"
   ]
  },
  {
   "cell_type": "code",
   "execution_count": 12,
   "id": "0e8c5e79",
   "metadata": {},
   "outputs": [],
   "source": [
    "def z(v0):\n",
    "    p,q,r=rk4(x0,v0,t0,tn,n)\n",
    "    return p[-1]"
   ]
  },
  {
   "cell_type": "code",
   "execution_count": 16,
   "id": "a7ddde51",
   "metadata": {},
   "outputs": [
    {
     "data": {
      "text/plain": [
       "[<matplotlib.lines.Line2D at 0x23926d26850>]"
      ]
     },
     "execution_count": 16,
     "metadata": {},
     "output_type": "execute_result"
    },
    {
     "data": {
      "image/png": "[encoded data removed]",
      "text/plain": [
       "<Figure size 432x288 with 1 Axes>"
      ]
     },
     "metadata": {
      "needs_background": "light"
     },
     "output_type": "display_data"
    }
   ],
   "source": [
    "v0=30\n",
    "v1=100\n",
    "v3=bisection(v0,v1,z,.01)\n",
    "p,q,r=rk4(x0,v3,t0,tn,n)\n",
    "plt.plot(r,p)"
   ]
  },
  {
   "cell_type": "markdown",
   "id": "0f95be84",
   "metadata": {},
   "source": [
    "# Solving SHM using Numerov+bisection"
   ]
  },
  {
   "cell_type": "code",
   "execution_count": 17,
   "id": "d470c4ef",
   "metadata": {},
   "outputs": [],
   "source": [
    "def V(x):\n",
    "    return (1/x**2)-(1/x)\n",
    "def function(x,E):\n",
    "    return (V(x)-E)"
   ]
  },
  {
   "cell_type": "code",
   "execution_count": 18,
   "id": "88555b96",
   "metadata": {},
   "outputs": [],
   "source": [
    "def y(x,E,h):\n",
    "    return 1-((h**2)*(function(x,E)))/12"
   ]
  },
  {
   "cell_type": "code",
   "execution_count": 19,
   "id": "df0c0439",
   "metadata": {},
   "outputs": [],
   "source": [
    "def numerov(x0,xf,E,n):\n",
    "    psi=np.zeros(n)\n",
    "    psi[0]=0\n",
    "    psi[-1]=0\n",
    "    psi[1]=psi[0]+h**4\n",
    "    x=np.arange(x0,xf,h)\n",
    "    for i in range(1,n-1):\n",
    "        psi[i+1]=(psi[i]*(12-10*y(x[i],E,h))-y(x[i-1],E,h)*psi[i-1])/y(x[i+1],E,h)\n",
    "    return psi"
   ]
  },
  {
   "cell_type": "code",
   "execution_count": 233,
   "id": "22e9e92e",
   "metadata": {},
   "outputs": [],
   "source": [
    "x0=-6\n",
    "xf=6\n",
    "n=1000\n",
    "h=(xf-x0)/n\n",
    "x=np.arange(x0,xf,h)\n",
    "E1=0\n",
    "E2=5\n",
    "p1=numerov(x0,xf,E1,n)\n",
    "p2=numerov(x0,xf,E2,n)"
   ]
  },
  {
   "cell_type": "code",
   "execution_count": 222,
   "id": "4c8a26fe",
   "metadata": {},
   "outputs": [
    {
     "data": {
      "text/plain": [
       "0.5989797427668259"
      ]
     },
     "execution_count": 222,
     "metadata": {},
     "output_type": "execute_result"
    }
   ],
   "source": [
    "import scipy.integrate\n",
    "def normalize_psi(psi, x):\n",
    "   int_psi_square = scipy.integrate.simps(abs(psi) ** 2, x)\n",
    "   return psi/np.sqrt(int_psi_square)\n",
    "P1=normalize_psi(p1,x)\n",
    "P2=normalize_psi(p2,x)\n",
    "# plt.plot(x,P1)\n",
    "# plt.plot(x,P2)\n",
    "# plt.grid()\n",
    "max(P2)"
   ]
  },
  {
   "cell_type": "code",
   "execution_count": 223,
   "id": "64779a32",
   "metadata": {},
   "outputs": [],
   "source": [
    "def q(E):\n",
    "    return numerov(x0,xf,E,n)[-1]"
   ]
  },
  {
   "cell_type": "code",
   "execution_count": 224,
   "id": "3f17edf0",
   "metadata": {},
   "outputs": [],
   "source": [
    "en=bisection(E1,E2,q,10**(-7))"
   ]
  },
  {
   "cell_type": "code",
   "execution_count": 225,
   "id": "21ab6e4d",
   "metadata": {},
   "outputs": [
    {
     "data": {
      "text/plain": [
       "0.08991695940494537"
      ]
     },
     "execution_count": 225,
     "metadata": {},
     "output_type": "execute_result"
    }
   ],
   "source": [
    "en"
   ]
  },
  {
   "cell_type": "code",
   "execution_count": 226,
   "id": "96d19cf6",
   "metadata": {},
   "outputs": [],
   "source": [
    "En=numerov(x0,xf,en,n)"
   ]
  },
  {
   "cell_type": "code",
   "execution_count": 227,
   "id": "40aa6359",
   "metadata": {},
   "outputs": [
    {
     "data": {
      "text/plain": [
       "[<matplotlib.lines.Line2D at 0x1a01d5703a0>]"
      ]
     },
     "execution_count": 227,
     "metadata": {},
     "output_type": "execute_result"
    },
    {
     "data": {
      "image/png": "[encoded data removed]",
      "text/plain": [
       "<Figure size 432x288 with 1 Axes>"
      ]
     },
     "metadata": {
      "needs_background": "light"
     },
     "output_type": "display_data"
    }
   ],
   "source": [
    "plt.plot(x,En)"
   ]
  },
  {
   "cell_type": "code",
   "execution_count": 209,
   "id": "b34aa92d",
   "metadata": {},
   "outputs": [],
   "source": [
    "def nodes(En):\n",
    "    n=0\n",
    "    for i in range(0,len(En)-1):\n",
    "        if En[i]*En[i+1]<0:\n",
    "            n+=1\n",
    "    return n"
   ]
  },
  {
   "cell_type": "code",
   "execution_count": 210,
   "id": "19d12c2c",
   "metadata": {},
   "outputs": [
    {
     "data": {
      "text/plain": [
       "0"
      ]
     },
     "execution_count": 210,
     "metadata": {},
     "output_type": "execute_result"
    }
   ],
   "source": [
    "nodes(En)"
   ]
  },
  {
   "cell_type": "code",
   "execution_count": 234,
   "id": "0289e741",
   "metadata": {},
   "outputs": [],
   "source": [
    "#FUNCTION FOR FINDING ALL THE BOUND STATE ENERGIES WITHOUT MAKING GUESSES\n",
    "\n",
    "def enval(e0,ef):\n",
    "    energies=[]\n",
    "    de=0.001\n",
    "    n=int((ef-e0)/de)\n",
    "    e1=e0+de\n",
    "    for i in range(n):\n",
    "        psi=numerov(x0,xf,e0,n)\n",
    "        psi1=numerov(x0,xf,e1,n)\n",
    "        if nodes(psi)<nodes(psi1):\n",
    "            energies.append(e1)\n",
    "        e0=e1\n",
    "        e1=e1+de\n",
    "    return energies"
   ]
  },
  {
   "cell_type": "code",
   "execution_count": 235,
   "id": "94b45ac4",
   "metadata": {},
   "outputs": [
    {
     "ename": "IndexError",
     "evalue": "index 1000 is out of bounds for axis 0 with size 1000",
     "output_type": "error",
     "traceback": [
      "\u001b[1;31m---------------------------------------------------------------------------\u001b[0m",
      "\u001b[1;31mIndexError\u001b[0m                                Traceback (most recent call last)",
      "Input \u001b[1;32mIn [235]\u001b[0m, in \u001b[0;36m<cell line: 1>\u001b[1;34m()\u001b[0m\n\u001b[1;32m----> 1\u001b[0m \u001b[43menval\u001b[49m\u001b[43m(\u001b[49m\u001b[38;5;241;43m0\u001b[39;49m\u001b[43m,\u001b[49m\u001b[38;5;241;43m2\u001b[39;49m\u001b[43m)\u001b[49m\n",
      "Input \u001b[1;32mIn [234]\u001b[0m, in \u001b[0;36menval\u001b[1;34m(e0, ef)\u001b[0m\n\u001b[0;32m      7\u001b[0m e1\u001b[38;5;241m=\u001b[39me0\u001b[38;5;241m+\u001b[39mde\n\u001b[0;32m      8\u001b[0m \u001b[38;5;28;01mfor\u001b[39;00m i \u001b[38;5;129;01min\u001b[39;00m \u001b[38;5;28mrange\u001b[39m(n):\n\u001b[1;32m----> 9\u001b[0m     psi\u001b[38;5;241m=\u001b[39m\u001b[43mnumerov\u001b[49m\u001b[43m(\u001b[49m\u001b[43mx0\u001b[49m\u001b[43m,\u001b[49m\u001b[43mxf\u001b[49m\u001b[43m,\u001b[49m\u001b[43me0\u001b[49m\u001b[43m,\u001b[49m\u001b[43mn\u001b[49m\u001b[43m)\u001b[49m\n\u001b[0;32m     10\u001b[0m     psi1\u001b[38;5;241m=\u001b[39mnumerov(x0,xf,e1,n)\n\u001b[0;32m     11\u001b[0m     \u001b[38;5;28;01mif\u001b[39;00m nodes(psi)\u001b[38;5;241m<\u001b[39mnodes(psi1):\n",
      "Input \u001b[1;32mIn [232]\u001b[0m, in \u001b[0;36mnumerov\u001b[1;34m(x0, xf, E, n)\u001b[0m\n\u001b[0;32m      6\u001b[0m x\u001b[38;5;241m=\u001b[39mnp\u001b[38;5;241m.\u001b[39marange(x0,xf,h)\n\u001b[0;32m      7\u001b[0m \u001b[38;5;28;01mfor\u001b[39;00m i \u001b[38;5;129;01min\u001b[39;00m \u001b[38;5;28mrange\u001b[39m(\u001b[38;5;241m1\u001b[39m,n\u001b[38;5;241m-\u001b[39m\u001b[38;5;241m1\u001b[39m):\n\u001b[1;32m----> 8\u001b[0m     psi[i\u001b[38;5;241m+\u001b[39m\u001b[38;5;241m1\u001b[39m]\u001b[38;5;241m=\u001b[39m(psi[i]\u001b[38;5;241m*\u001b[39m(\u001b[38;5;241m12\u001b[39m\u001b[38;5;241m-\u001b[39m\u001b[38;5;241m10\u001b[39m\u001b[38;5;241m*\u001b[39my(x[i],E,h))\u001b[38;5;241m-\u001b[39my(x[i\u001b[38;5;241m-\u001b[39m\u001b[38;5;241m1\u001b[39m],E,h)\u001b[38;5;241m*\u001b[39mpsi[i\u001b[38;5;241m-\u001b[39m\u001b[38;5;241m1\u001b[39m])\u001b[38;5;241m/\u001b[39my(\u001b[43mx\u001b[49m\u001b[43m[\u001b[49m\u001b[43mi\u001b[49m\u001b[38;5;241;43m+\u001b[39;49m\u001b[38;5;241;43m1\u001b[39;49m\u001b[43m]\u001b[49m,E,h)\n\u001b[0;32m      9\u001b[0m \u001b[38;5;28;01mreturn\u001b[39;00m psi\n",
      "\u001b[1;31mIndexError\u001b[0m: index 1000 is out of bounds for axis 0 with size 1000"
     ]
    }
   ],
   "source": [
    "enval(0,2)"
   ]
  },
  {
   "cell_type": "code",
   "execution_count": null,
   "id": "1ac94ed6",
   "metadata": {},
   "outputs": [],
   "source": []
  }
 ],
 "metadata": {
  "kernelspec": {
   "display_name": "Python 3 (ipykernel)",
   "language": "python",
   "name": "python3"
  },
  "language_info": {
   "codemirror_mode": {
    "name": "ipython",
    "version": 3
   },
   "file_extension": ".py",
   "mimetype": "text/x-python",
   "name": "python",
   "nbconvert_exporter": "python",
   "pygments_lexer": "ipython3",
   "version": "3.9.12"
  }
 },
 "nbformat": 4,
 "nbformat_minor": 5
}
